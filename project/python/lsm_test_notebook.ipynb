{
 "cells": [
  {
   "cell_type": "code",
   "execution_count": 1,
   "id": "6f27709d",
   "metadata": {},
   "outputs": [],
   "source": [
    "import os\n",
    "\n",
    "from snntorch import surrogate\n",
    "from snntorch.functional import ce_rate_loss\n",
    "from tqdm import tqdm\n",
    "\n",
    "from data_processing.dataloader import DataParam, LoaderCreator\n",
    "from modules.lsm_hyperparam import LSMNeuronParams\n",
    "from modules.lsm_net import *\n",
    "from trainers.trainer import OptmParams, Trainer"
   ]
  },
  {
   "cell_type": "code",
   "execution_count": 2,
   "id": "42bccbf6",
   "metadata": {},
   "outputs": [
    {
     "data": {
      "text/plain": [
       "True"
      ]
     },
     "execution_count": 2,
     "metadata": {},
     "output_type": "execute_result"
    }
   ],
   "source": [
    "torch.cuda.is_available()"
   ]
  },
  {
   "cell_type": "code",
   "execution_count": 3,
   "id": "4bcdefbb",
   "metadata": {},
   "outputs": [
    {
     "name": "stdout",
     "output_type": "stream",
     "text": [
      "1.12.0+cu116\n"
     ]
    }
   ],
   "source": [
    "print(torch.__version__)"
   ]
  },
  {
   "cell_type": "code",
   "execution_count": 4,
   "id": "648b7c95",
   "metadata": {},
   "outputs": [],
   "source": [
    "def build_env(read_checkpoint = False):\n",
    "    \n",
    "    device = torch.device(\"cuda\") if torch.cuda.is_available() else torch.device(\"cpu\")\n",
    "    #device = torch.device(\"cpu\")\n",
    "    \n",
    "    train_param = DataParam(0.8, 64, shuffle=True)\n",
    "    val_param = DataParam(0.12, 64, shuffle=False)\n",
    "    test_param = DataParam(0.08, 32, shuffle=False)\n",
    "\n",
    "    train_dl, val_dl, test_dl = LoaderCreator('./SpikeData/').create_loaders(\n",
    "        train_param,\n",
    "        val_param,\n",
    "        test_param)\n",
    "\n",
    "    seed = 12345\n",
    "    weight_bit = 6\n",
    "    volt_bit = 8\n",
    "    weight_max = 2 ** weight_bit - 1\n",
    "    threshold_max = 2 ** volt_bit - 1\n",
    "    num_steps = 128\n",
    "    t_decay = 15\n",
    "    param = LSMInitParams(in_size=19, hidden_size=60, out_size=10, seed=seed, fan_in=16, inhib=10)\n",
    "    weights = LSMNeuronParams(wlo=2, whi=20, tlo=8, thi=threshold_max)\n",
    "    optm = OptmParams(grad=surrogate.fast_sigmoid(), num_steps=num_steps, lr=7e-4, beta_lo=1 - 1e-1, beta_hi=1 - 1e-3)\n",
    "    init = LSMInitializer(param, weights)\n",
    "    stdp = STDPLearner(ap=0.04, an=0.02, tp=t_decay, tn=t_decay, wmax=weight_max, wmin=0)\n",
    "    net = LSMPool(optm, param, init, stdp).to(device)\n",
    "\n",
    "    def transform(_, x):\n",
    "        return x.permute((2, 0, 1))\n",
    "    \n",
    "    trainer = Trainer(net, optm, ce_rate_loss(), transform)\n",
    "    \n",
    "\n",
    "    w0 = net.fc1.weight.data.clone().to(device)\n",
    "\n",
    "    checkpoint = \"./Checkpoints\"\n",
    "    if not os.path.isdir(checkpoint):\n",
    "        os.mkdir(checkpoint)\n",
    "        \n",
    "    if not read_checkpoint:\n",
    "        epochs = tqdm(iter(train_dl))\n",
    "        for i, (data, target) in enumerate(epochs):\n",
    "            net.lsm_train(transform(0, data))\n",
    "            w1 = net.fc1.weight.data.clone().to(device)\n",
    "\n",
    "            acvtivity = stdp.step() / 2\n",
    "            variation = torch.sum(torch.square(w0 - w1))\n",
    "            connected = torch.sum(w1 != 0)\n",
    "            epochs.set_description(f\"LSM activity: {acvtivity} | variation: {variation:.3f} | connected: {connected}\")\n",
    "            w0 = w1\n",
    "\n",
    "            torch.save(net.state_dict(), f\"{checkpoint}/lsm_stdp_{i}.pth\")\n",
    "    \n",
    "    else:\n",
    "        net.load_state_dict(torch.load(f\"{checkpoint}/lsm_stdp_{373}.pth\"))\n",
    "    \n",
    "    #device = torch.device(\"cuda\") if torch.cuda.is_available() else torch.device(\"cpu\")\n",
    "    \n",
    "    trainer.train(100, train_dl, test_dl)\n",
    "\n",
    "    # net.lsm_train()\n",
    "    # net.forward()"
   ]
  },
  {
   "cell_type": "code",
   "execution_count": null,
   "id": "9ce3fe2c",
   "metadata": {
    "scrolled": false
   },
   "outputs": [
    {
     "name": "stderr",
     "output_type": "stream",
     "text": [
      "100%|██████████| 10/10 [00:00<00:00, 141.83it/s]"
     ]
    },
    {
     "name": "stdout",
     "output_type": "stream",
     "text": [
      "rebuilding data!\n"
     ]
    },
    {
     "name": "stderr",
     "output_type": "stream",
     "text": [
      "\n"
     ]
    },
    {
     "name": "stdout",
     "output_type": "stream",
     "text": [
      "Trainer Constructed. Device:  cpu\n"
     ]
    },
    {
     "name": "stderr",
     "output_type": "stream",
     "text": [
      "LSM activity: 22196.0 | variation: 3116423.000 | connected: 599:  12%|█▏        | 46/375 [11:04<1:07:49, 12.37s/it]"
     ]
    }
   ],
   "source": [
    "if __name__ == \"__main__\":\n",
    "    build_env(False)"
   ]
  },
  {
   "cell_type": "code",
   "execution_count": null,
   "id": "72e83b8c",
   "metadata": {},
   "outputs": [],
   "source": []
  },
  {
   "cell_type": "code",
   "execution_count": null,
   "id": "03a1e8c3",
   "metadata": {},
   "outputs": [],
   "source": []
  }
 ],
 "metadata": {
  "kernelspec": {
   "display_name": "Python 3",
   "language": "python",
   "name": "python3"
  },
  "language_info": {
   "codemirror_mode": {
    "name": "ipython",
    "version": 3
   },
   "file_extension": ".py",
   "mimetype": "text/x-python",
   "name": "python",
   "nbconvert_exporter": "python",
   "pygments_lexer": "ipython3",
   "version": "3.8.8"
  }
 },
 "nbformat": 4,
 "nbformat_minor": 5
}
