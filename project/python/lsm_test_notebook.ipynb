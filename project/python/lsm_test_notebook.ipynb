{
 "cells": [
  {
   "cell_type": "code",
   "execution_count": 4,
   "id": "6f27709d",
   "metadata": {},
   "outputs": [],
   "source": [
    "import os\n",
    "\n",
    "from snntorch import surrogate\n",
    "from snntorch.functional import ce_rate_loss\n",
    "from tqdm import tqdm\n",
    "\n",
    "from data_processing.dataloader import DataParam, LoaderCreator\n",
    "from modules.lsm_hyperparam import LSMNeuronParams\n",
    "from modules.lsm_net import *\n",
    "from trainers.trainer import OptmParams, Trainer"
   ]
  },
  {
   "cell_type": "code",
   "execution_count": 5,
   "id": "42bccbf6",
   "metadata": {
    "scrolled": true
   },
   "outputs": [
    {
     "data": {
      "text/plain": [
       "True"
      ]
     },
     "execution_count": 5,
     "metadata": {},
     "output_type": "execute_result"
    }
   ],
   "source": [
    "torch.cuda.is_available()"
   ]
  },
  {
   "cell_type": "code",
   "execution_count": 6,
   "id": "4bcdefbb",
   "metadata": {},
   "outputs": [
    {
     "name": "stdout",
     "output_type": "stream",
     "text": [
      "1.12.0+cu116\n"
     ]
    }
   ],
   "source": [
    "print(torch.__version__)"
   ]
  },
  {
   "cell_type": "code",
   "execution_count": 7,
   "id": "648b7c95",
   "metadata": {},
   "outputs": [],
   "source": [
    "def build_env(read_checkpoint = False, num_epoch = 100):\n",
    "    \n",
    "    #device = torch.device(\"cuda\") if torch.cuda.is_available() else torch.device(\"cpu\")\n",
    "    device = torch.device(\"cpu\")\n",
    "    \n",
    "    train_param = DataParam(0.8, 128, shuffle=True)\n",
    "    val_param = DataParam(0.12, 16, shuffle=False)\n",
    "    test_param = DataParam(0.08, 32, shuffle=False)\n",
    "\n",
    "    train_dl, val_dl, test_dl = LoaderCreator('./SpikeData/').create_loaders(\n",
    "        train_param,\n",
    "        val_param,\n",
    "        test_param)\n",
    "\n",
    "    seed = 12345\n",
    "    weight_bit = 6\n",
    "    volt_bit = 8\n",
    "    weight_max = 2 ** weight_bit - 1\n",
    "    threshold_max = 2 ** volt_bit - 1\n",
    "    num_steps = 128\n",
    "    t_decay = 10\n",
    "    param = LSMInitParams(in_size=19, hidden_size=60, out_size=10, seed=seed, fan_in=16, inhib=10)\n",
    "    weights = LSMNeuronParams(wlo=0.5, whi=10, tlo=8, thi=threshold_max)\n",
    "    optm = OptmParams(grad=surrogate.fast_sigmoid(), num_steps=num_steps, lr=5e-1, beta_lo=1 - 1e-1, beta_hi=1 - 1e-3)\n",
    "    init = LSMInitializer(param, weights)\n",
    "    stdp = STDPLearner(ap=0.0006, an=0.0005, tp=t_decay, tn=t_decay, wmax=weight_max, wmin=0.5)\n",
    "    net = LSMPool(optm, param, init, stdp).to(device)\n",
    "\n",
    "    def transform(_, x):\n",
    "        return x.permute((2, 0, 1))\n",
    "    \n",
    "    trainer = Trainer(net, optm, ce_rate_loss(), transform)\n",
    "    \n",
    "\n",
    "    w0 = net.fc1.weight.data.clone().to(device)\n",
    "\n",
    "    checkpoint = \"./Checkpoints\"\n",
    "    if not os.path.isdir(checkpoint):\n",
    "        os.mkdir(checkpoint)\n",
    "  \n",
    "    \n",
    "    if not read_checkpoint:\n",
    "        for j in range(4):\n",
    "            epochs = tqdm(iter(train_dl))\n",
    "            print(\"LSM Starts\")\n",
    "            #\n",
    "            print(j)\n",
    "            for i, (data, target) in enumerate(epochs):\n",
    "                net.lsm_train(transform(0, data))\n",
    "                w1 = net.fc1.weight.data.clone().to(device)\n",
    "\n",
    "                acvtivity = stdp.step() / 2\n",
    "                variation = torch.sum(torch.square(w0 - w1))\n",
    "                connected = torch.sum(w1 != 0)\n",
    "                epochs.set_description(f\"LSM activity: {acvtivity} | variation: {variation:.3f} | connected: {connected}\")\n",
    "                w0 = w1\n",
    "\n",
    "                torch.save(net.state_dict(), f\"{checkpoint}/lsm_stdp_{i}.pth\")\n",
    "\n",
    "    else:\n",
    "        net.load_state_dict(torch.load(f\"{checkpoint}/lsm_stdp_{373}.pth\"))\n",
    "    \n",
    "    #device = torch.device(\"cuda\") if torch.cuda.is_available() else torch.device(\"cpu\")\n",
    "    \n",
    "    trainer.train(num_epoch, train_dl, test_dl)\n",
    "\n",
    "    # net.lsm_train()\n",
    "    # net.forward()"
   ]
  },
  {
   "cell_type": "code",
   "execution_count": 8,
   "id": "9ce3fe2c",
   "metadata": {
    "scrolled": true
   },
   "outputs": [
    {
     "name": "stderr",
     "output_type": "stream",
     "text": [
      "100%|██████████| 10/10 [00:00<00:00, 114.59it/s]"
     ]
    },
    {
     "name": "stdout",
     "output_type": "stream",
     "text": [
      "rebuilding data!\n",
      "Trainer Constructed. Device:  cpu\n"
     ]
    },
    {
     "name": "stderr",
     "output_type": "stream",
     "text": [
      "\n",
      "  0%|          | 0/188 [00:00<?, ?it/s]"
     ]
    },
    {
     "name": "stdout",
     "output_type": "stream",
     "text": [
      "LSM Starts\n",
      "0\n"
     ]
    },
    {
     "name": "stderr",
     "output_type": "stream",
     "text": [
      "LSM activity: 18346.0 | variation: 10.641 | connected: 764: 100%|██████████| 188/188 [00:40<00:00,  4.70it/s] \n",
      "  0%|          | 0/188 [00:00<?, ?it/s]"
     ]
    },
    {
     "name": "stdout",
     "output_type": "stream",
     "text": [
      "LSM Starts\n",
      "1\n"
     ]
    },
    {
     "name": "stderr",
     "output_type": "stream",
     "text": [
      "LSM activity: 20772.5 | variation: 1.610 | connected: 613: 100%|██████████| 188/188 [00:39<00:00,  4.76it/s]  \n",
      "  0%|          | 0/188 [00:00<?, ?it/s]"
     ]
    },
    {
     "name": "stdout",
     "output_type": "stream",
     "text": [
      "LSM Starts\n",
      "2\n"
     ]
    },
    {
     "name": "stderr",
     "output_type": "stream",
     "text": [
      "LSM activity: 19890.0 | variation: 1.644 | connected: 548: 100%|██████████| 188/188 [00:40<00:00,  4.66it/s] \n",
      "  0%|          | 0/188 [00:00<?, ?it/s]"
     ]
    },
    {
     "name": "stdout",
     "output_type": "stream",
     "text": [
      "LSM Starts\n",
      "3\n"
     ]
    },
    {
     "name": "stderr",
     "output_type": "stream",
     "text": [
      "LSM activity: 21974.5 | variation: 0.476 | connected: 524: 100%|██████████| 188/188 [00:40<00:00,  4.61it/s] \n",
      "Step: 49 | Evaluate Testing Set: 75/75 | loss: 2.303e+00 | Training Set Accuracy: 9.90% | Testing Set Accuracy: 10.00%: 100%|██████████| 50/50 [1:20:46<00:00, 96.93s/it]    "
     ]
    },
    {
     "name": "stdout",
     "output_type": "stream",
     "text": [
      "[0.09883333333333333, 0.09883333333333333, 0.098875, 0.098875, 0.09895833333333333, 0.09891666666666667, 0.09891666666666667, 0.09858333333333333, 0.098875, 0.09879166666666667, 0.09879166666666667, 0.09875, 0.098875, 0.098875, 0.09891666666666667, 0.096375, 0.09883333333333333, 0.09854166666666667, 0.099375, 0.099, 0.099, 0.099, 0.099, 0.099, 0.099, 0.099, 0.099, 0.099, 0.099, 0.099, 0.09904166666666667, 0.09904166666666667, 0.09904166666666667, 0.09908333333333333, 0.10025, 0.09904166666666667, 0.09908333333333333, 0.09895833333333333, 0.09895833333333333, 0.09895833333333333, 0.09895833333333333, 0.09895833333333333, 0.09895833333333333, 0.09895833333333333, 0.09991666666666667, 0.09908333333333333, 0.099125, 0.09916666666666667, 0.10091666666666667, 0.099]\n",
      "[0.10083333333333333, 0.10083333333333333, 0.10083333333333333, 0.10083333333333333, 0.10083333333333333, 0.10083333333333333, 0.10083333333333333, 0.09958333333333333, 0.1, 0.10041666666666667, 0.1, 0.10041666666666667, 0.10041666666666667, 0.10041666666666667, 0.10041666666666667, 0.0975, 0.09916666666666667, 0.09916666666666667, 0.1, 0.10041666666666667, 0.10083333333333333, 0.10083333333333333, 0.10083333333333333, 0.10083333333333333, 0.10083333333333333, 0.10083333333333333, 0.10083333333333333, 0.10083333333333333, 0.10083333333333333, 0.10083333333333333, 0.10083333333333333, 0.10083333333333333, 0.10083333333333333, 0.10083333333333333, 0.10041666666666667, 0.10041666666666667, 0.10041666666666667, 0.10041666666666667, 0.10041666666666667, 0.10041666666666667, 0.10041666666666667, 0.10041666666666667, 0.10041666666666667, 0.10041666666666667, 0.10083333333333333, 0.10041666666666667, 0.10041666666666667, 0.10041666666666667, 0.10083333333333333, 0.1]\n"
     ]
    },
    {
     "name": "stderr",
     "output_type": "stream",
     "text": [
      "\n"
     ]
    }
   ],
   "source": [
    "if __name__ == \"__main__\":\n",
    "    build_env(False,50)"
   ]
  },
  {
   "cell_type": "code",
   "execution_count": 9,
   "id": "72e83b8c",
   "metadata": {
    "scrolled": false
   },
   "outputs": [
    {
     "name": "stderr",
     "output_type": "stream",
     "text": [
      "100%|██████████| 10/10 [00:00<00:00, 144.91it/s]\n",
      "  0%|          | 0/30 [00:00<?, ?it/s]"
     ]
    },
    {
     "name": "stdout",
     "output_type": "stream",
     "text": [
      "rebuilding data!\n",
      "Trainer Constructed. Device:  cpu\n"
     ]
    },
    {
     "name": "stderr",
     "output_type": "stream",
     "text": [
      "Step: 29 | Evaluate Testing Set: 75/75 | loss: 2.302e+00 | Training Set Accuracy: 18.53% | Testing Set Accuracy: 18.58%: 100%|██████████| 30/30 [37:56<00:00, 75.89s/it]   "
     ]
    },
    {
     "name": "stdout",
     "output_type": "stream",
     "text": [
      "[0.10358333333333333, 0.10333333333333333, 0.1145, 0.12795833333333334, 0.10433333333333333, 0.09916666666666667, 0.09695833333333333, 0.094125, 0.08733333333333333, 0.13741666666666666, 0.14466666666666667, 0.14354166666666668, 0.14275, 0.15358333333333332, 0.15708333333333332, 0.15925, 0.1615, 0.16679166666666667, 0.16641666666666666, 0.17791666666666667, 0.17325, 0.17383333333333334, 0.17570833333333333, 0.179125, 0.18270833333333333, 0.18233333333333332, 0.189, 0.15870833333333334, 0.1855, 0.18533333333333332]\n",
      "[0.10958333333333334, 0.11208333333333333, 0.12166666666666667, 0.13583333333333333, 0.105, 0.10416666666666667, 0.10333333333333333, 0.09916666666666667, 0.09458333333333334, 0.13666666666666666, 0.13708333333333333, 0.13916666666666666, 0.14125, 0.14708333333333334, 0.15416666666666667, 0.15958333333333333, 0.1575, 0.16333333333333333, 0.16333333333333333, 0.17458333333333334, 0.16958333333333334, 0.17541666666666667, 0.17333333333333334, 0.18166666666666667, 0.18, 0.1825, 0.19, 0.15041666666666667, 0.18791666666666668, 0.18583333333333332]\n"
     ]
    },
    {
     "name": "stderr",
     "output_type": "stream",
     "text": [
      "\n"
     ]
    }
   ],
   "source": [
    "if __name__ == \"__main__\":\n",
    "    build_env(True,30)"
   ]
  },
  {
   "cell_type": "code",
   "execution_count": null,
   "id": "03a1e8c3",
   "metadata": {},
   "outputs": [],
   "source": []
  }
 ],
 "metadata": {
  "kernelspec": {
   "display_name": "Python 3",
   "language": "python",
   "name": "python3"
  },
  "language_info": {
   "codemirror_mode": {
    "name": "ipython",
    "version": 3
   },
   "file_extension": ".py",
   "mimetype": "text/x-python",
   "name": "python",
   "nbconvert_exporter": "python",
   "pygments_lexer": "ipython3",
   "version": "3.8.8"
  }
 },
 "nbformat": 4,
 "nbformat_minor": 5
}
